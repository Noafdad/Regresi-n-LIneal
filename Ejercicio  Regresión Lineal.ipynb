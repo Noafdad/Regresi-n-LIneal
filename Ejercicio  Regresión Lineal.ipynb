{
 "cells": [
  {
   "cell_type": "markdown",
   "id": "c6be954d",
   "metadata": {},
   "source": [
    "# Ejercicio de Numpy + Matplotlib: La regresión lineal"
   ]
  },
  {
   "cell_type": "code",
   "execution_count": 3,
   "id": "788f3b84",
   "metadata": {},
   "outputs": [],
   "source": [
    "import numpy as np\n",
    "%matplotlib inline\n",
    "import matplotlib.pyplot as plt"
   ]
  },
  {
   "cell_type": "markdown",
   "id": "6ba9a372",
   "metadata": {},
   "source": [
    "#### Descargamos el archivo zip con urlretrieve:"
   ]
  },
  {
   "cell_type": "code",
   "execution_count": 4,
   "id": "06b26b1c",
   "metadata": {},
   "outputs": [],
   "source": [
    "from urllib.request import urlretrieve\n",
    "datos, respuesta = urlretrieve(\"http://openclassroom.stanford.edu/MainFolder/courses/MachineLearning/exercises/ex2materials/ex2Data.zip\")"
   ]
  },
  {
   "cell_type": "code",
   "execution_count": 5,
   "id": "a4d689c7",
   "metadata": {},
   "outputs": [
    {
     "name": "stdout",
     "output_type": "stream",
     "text": [
      "Date: Wed, 16 Mar 2022 07:40:15 GMT\n",
      "Server: Apache/2.2.15 (CentOS)\n",
      "Last-Modified: Tue, 28 Dec 2010 22:06:34 GMT\n",
      "ETag: \"726c14c8-351-4987faa672e80\"\n",
      "Accept-Ranges: bytes\n",
      "Content-Length: 849\n",
      "Connection: close\n",
      "Content-Type: application/zip\n",
      "\n",
      "\n",
      "\n",
      "Archivo descargado en: C:\\Users\\Noelia\\AppData\\Local\\Temp\\tmp_54itl6r\n"
     ]
    }
   ],
   "source": [
    "print(respuesta)\n",
    "print(\"\")\n",
    "print(\"Archivo descargado en: \" + datos)"
   ]
  },
  {
   "cell_type": "markdown",
   "id": "056e2941",
   "metadata": {},
   "source": [
    "##### Descomprimimos el archivo:"
   ]
  },
  {
   "cell_type": "code",
   "execution_count": 6,
   "id": "bd27d75a",
   "metadata": {},
   "outputs": [
    {
     "name": "stdout",
     "output_type": "stream",
     "text": [
      "El directorio en el que está Python ahora mismo es C:\\Users\\Noelia\\MODULOII_PYTHON&MACHINE_LEARNING\\MachineLearning\n"
     ]
    }
   ],
   "source": [
    "import os\n",
    "\n",
    "directorio_actual = os.path.abspath(os.curdir)\n",
    "\n",
    "print(\"El directorio en el que está Python ahora mismo es \" + directorio_actual)"
   ]
  },
  {
   "cell_type": "code",
   "execution_count": 8,
   "id": "048d4e2b",
   "metadata": {},
   "outputs": [
    {
     "name": "stdout",
     "output_type": "stream",
     "text": [
      "File Name                                             Modified             Size\n",
      "ex2x.dat                                       2010-10-14 10:57:02          850\n",
      "ex2y.dat                                       2010-10-14 10:57:02          850\n"
     ]
    }
   ],
   "source": [
    "import zipfile\n",
    "\n",
    "archivo_zip = open(datos, \"rb\")\n",
    "\n",
    "archivo_zip_instanciado = zipfile.ZipFile(archivo_zip)\n",
    "archivo_zip_instanciado.printdir()\n",
    "archivo_zip_instanciado.extractall(directorio_actual)\n"
   ]
  },
  {
   "cell_type": "markdown",
   "id": "64a86afb",
   "metadata": {},
   "source": [
    "##### Cerramos los archivos leídos:"
   ]
  },
  {
   "cell_type": "code",
   "execution_count": 9,
   "id": "a753c08d",
   "metadata": {},
   "outputs": [],
   "source": [
    "archivo_zip.close()"
   ]
  },
  {
   "cell_type": "markdown",
   "id": "8e669c56",
   "metadata": {},
   "source": [
    "##### Unimos ambas rutas:"
   ]
  },
  {
   "cell_type": "code",
   "execution_count": 10,
   "id": "e04e4322",
   "metadata": {},
   "outputs": [
    {
     "name": "stdout",
     "output_type": "stream",
     "text": [
      "C:\\Users\\Noelia\\MODULOII_PYTHON&MACHINE_LEARNING\\MachineLearning\\ex2x.dat\n",
      "C:\\Users\\Noelia\\MODULOII_PYTHON&MACHINE_LEARNING\\MachineLearning\\ex2y.dat\n"
     ]
    }
   ],
   "source": [
    "ruta_archivo_x = os.path.join(directorio_actual, \"ex2x.dat\")\n",
    "ruta_archivo_y = os.path.join(directorio_actual, \"ex2y.dat\")\n",
    "print(ruta_archivo_x)\n",
    "print(ruta_archivo_y)"
   ]
  },
  {
   "cell_type": "markdown",
   "id": "a339fcdc",
   "metadata": {},
   "source": [
    "##### Utilizamos archivo.readlines() para que se cree una lista con cada línea del archivo como elemento de la misma:"
   ]
  },
  {
   "cell_type": "code",
   "execution_count": 12,
   "id": "c9e78997",
   "metadata": {},
   "outputs": [],
   "source": [
    "archivo_x = open(ruta_archivo_x, \"r\")\n",
    "x_leido = archivo_x.readlines()\n",
    "archivo_x.close()\n",
    "\n",
    "archivo_y = open(ruta_archivo_y, \"r\")\n",
    "y_leido = archivo_y.readlines()\n",
    "archivo_y.close()"
   ]
  },
  {
   "cell_type": "markdown",
   "id": "51e26be4",
   "metadata": {},
   "source": [
    "\n",
    "\n",
    "### LIMPIEZA Y TRANSFORMACIÓN DE LOS DATOS"
   ]
  },
  {
   "cell_type": "markdown",
   "id": "de7d6cf0",
   "metadata": {},
   "source": [
    " - Limpiar espacios y caracteres \\n ; Utilizaremos el método .strip()\n",
    " - Convertirlos a floats"
   ]
  },
  {
   "cell_type": "code",
   "execution_count": 13,
   "id": "7ab753ff",
   "metadata": {},
   "outputs": [
    {
     "name": "stdout",
     "output_type": "stream",
     "text": [
      "[2.0658746, 2.3684087, 2.5399929, 2.5420804, 2.549079, 2.7866882, 2.9116825, 3.035627, 3.1146696, 3.1582389]\n",
      "[0.77918926, 0.91596757, 0.90538354, 0.90566138, 0.9389889, 0.9668474, 0.96436824, 0.91445939, 0.93933944, 0.96074971]\n"
     ]
    }
   ],
   "source": [
    "x = [float(elemento.strip()) for elemento in x_leido]\n",
    "y = [float(elemento.strip()) for elemento in y_leido]\n",
    "\n",
    "# Comprobamos:\n",
    "print(x[:10])\n",
    "print(y[:10])"
   ]
  },
  {
   "cell_type": "markdown",
   "id": "3aa7fb5f",
   "metadata": {},
   "source": [
    "##### Borramos los archivos descomprimidos de nuestro ordenador:"
   ]
  },
  {
   "cell_type": "code",
   "execution_count": 14,
   "id": "65514ae8",
   "metadata": {},
   "outputs": [],
   "source": [
    "os.remove(ruta_archivo_x)\n",
    "os.remove(ruta_archivo_y)"
   ]
  },
  {
   "cell_type": "markdown",
   "id": "05e37b18",
   "metadata": {},
   "source": [
    "\n",
    "\n",
    "### REGRESIÓN LINEAL CON NUMPY"
   ]
  },
  {
   "cell_type": "markdown",
   "id": "9726106c",
   "metadata": {},
   "source": [
    "#### 1º - Convertir las listas en arrays de Numpy:"
   ]
  },
  {
   "cell_type": "code",
   "execution_count": 16,
   "id": "a5df9248",
   "metadata": {},
   "outputs": [
    {
     "name": "stdout",
     "output_type": "stream",
     "text": [
      "Primeras líneas de cada array:\n",
      "x: \n",
      "[2.0658746 2.3684087 2.5399929 2.5420804 2.549079  2.7866882 2.9116825\n",
      " 3.035627  3.1146696 3.1582389]\n",
      "y: \n",
      "[0.77918926 0.91596757 0.90538354 0.90566138 0.9389889  0.9668474\n",
      " 0.96436824 0.91445939 0.93933944 0.96074971]\n"
     ]
    }
   ],
   "source": [
    "array_x = np.array(x)\n",
    "array_y = np.array(y)\n",
    "\n",
    "print(\"Primeras líneas de cada array:\")\n",
    "print(\"x: \\n\" + str(array_x[:10]))\n",
    "print(\"y: \\n\" + str(array_y[:10]))"
   ]
  },
  {
   "cell_type": "code",
   "execution_count": 17,
   "id": "941858de",
   "metadata": {},
   "outputs": [
    {
     "name": "stdout",
     "output_type": "stream",
     "text": [
      "¡Correcto!\n"
     ]
    }
   ],
   "source": [
    "assert np.allclose(np.array([array_x.sum()]), np.array([246.17859859999999])), \"Test fallido: array_x\"\n",
    "assert np.allclose(np.array([array_y.sum()]), np.array([53.234302730000003])), \"Test fallido: array_y\"\n",
    "print(\"¡Correcto!\")"
   ]
  },
  {
   "cell_type": "markdown",
   "id": "551d5ae0",
   "metadata": {},
   "source": [
    "##### Redimensionamos los arrays, para que dejen de ser de dimensiones (50, ) y pasen a ser de (50,1)"
   ]
  },
  {
   "cell_type": "code",
   "execution_count": 22,
   "id": "ceae26b1",
   "metadata": {},
   "outputs": [
    {
     "name": "stdout",
     "output_type": "stream",
     "text": [
      "Primeras líneas de cada array:\n",
      "x: \n",
      "[[2.0658746]\n",
      " [2.3684087]\n",
      " [2.5399929]\n",
      " [2.5420804]\n",
      " [2.549079 ]\n",
      " [2.7866882]\n",
      " [2.9116825]\n",
      " [3.035627 ]\n",
      " [3.1146696]\n",
      " [3.1582389]]\n",
      "y: \n",
      "[[0.77918926]\n",
      " [0.91596757]\n",
      " [0.90538354]\n",
      " [0.90566138]\n",
      " [0.9389889 ]\n",
      " [0.9668474 ]\n",
      " [0.96436824]\n",
      " [0.91445939]\n",
      " [0.93933944]\n",
      " [0.96074971]]\n"
     ]
    }
   ],
   "source": [
    "array_x_redimen = np.reshape(array_x,(50,1))\n",
    "array_y_redimen = np.reshape(array_y,(50,1))\n",
    "\n",
    "print(\"Primeras líneas de cada array:\")\n",
    "print(\"x: \\n\" + str(array_x_redimen[:10]))\n",
    "print(\"y: \\n\" + str(array_y_redimen[:10]))"
   ]
  },
  {
   "cell_type": "code",
   "execution_count": 24,
   "id": "75bf024d",
   "metadata": {},
   "outputs": [
    {
     "name": "stdout",
     "output_type": "stream",
     "text": [
      "¡Correcto!\n"
     ]
    }
   ],
   "source": [
    "assert array_x_redimen.shape == (50,1), \"Error en las dimensiones de array_x_redimen\"\n",
    "assert array_y_redimen.shape == (50,1), \"Error en las dimensiones de array_y_redimen\"\n",
    "print(\"¡Correcto!\")"
   ]
  },
  {
   "cell_type": "markdown",
   "id": "6b36d114",
   "metadata": {},
   "source": [
    "##### Concatenamos ambos arrays:"
   ]
  },
  {
   "cell_type": "code",
   "execution_count": 31,
   "id": "bae6c544",
   "metadata": {},
   "outputs": [
    {
     "name": "stdout",
     "output_type": "stream",
     "text": [
      "Dataset (columna x, columna y):\n",
      "[[2.0658746  0.77918926]\n",
      " [2.3684087  0.91596757]\n",
      " [2.5399929  0.90538354]\n",
      " [2.5420804  0.90566138]\n",
      " [2.549079   0.9389889 ]\n",
      " [2.7866882  0.9668474 ]\n",
      " [2.9116825  0.96436824]\n",
      " [3.035627   0.91445939]\n",
      " [3.1146696  0.93933944]\n",
      " [3.1582389  0.96074971]]\n"
     ]
    }
   ],
   "source": [
    "dataset = np.concatenate([array_x_redimen, array_y_redimen], axis = 1 )\n",
    "\n",
    "print(\"Dataset (columna x, columna y):\\n\" + str(dataset[:10]))"
   ]
  },
  {
   "cell_type": "code",
   "execution_count": 32,
   "id": "6ab4934b",
   "metadata": {},
   "outputs": [
    {
     "name": "stdout",
     "output_type": "stream",
     "text": [
      "(50, 2)\n"
     ]
    }
   ],
   "source": [
    "print(np.shape(dataset))"
   ]
  },
  {
   "cell_type": "code",
   "execution_count": 33,
   "id": "72c1a4db",
   "metadata": {
    "scrolled": true
   },
   "outputs": [
    {
     "name": "stdout",
     "output_type": "stream",
     "text": [
      "¡Correcto!\n"
     ]
    }
   ],
   "source": [
    "assert dataset.shape == (50,2), \"Error en las dimensiones de la matriz.\"\n",
    "assert np.allclose(dataset.sum(axis=0), np.array([246.1785986, 53.23430273])), (\"Test fallido: matriz. Comprueba que la primera columna es la de las x y la segunda la de las y\")\n",
    "print(\"¡Correcto!\")"
   ]
  },
  {
   "cell_type": "markdown",
   "id": "0def7ef7",
   "metadata": {},
   "source": [
    "##### Hacemos un gráfico de dispersión con scatter():"
   ]
  },
  {
   "cell_type": "code",
   "execution_count": 117,
   "id": "6225a2d4",
   "metadata": {},
   "outputs": [
    {
     "data": {
      "image/png": "[encoded data removed]",
      "text/plain": [
       "<Figure size 576x432 with 1 Axes>"
      ]
     },
     "metadata": {
      "needs_background": "light"
     },
     "output_type": "display_data"
    }
   ],
   "source": [
    "# Ejercicio04: rellenar con los datos de los ejes\n",
    "# x e y a partir de nuestro dataset haciendo slicing.\n",
    "# Así, podrás dibujar con plt.scatter:\n",
    "plt.figure(figsize=(8,6))\n",
    "plt.title(\"Altura para varios niños entre dos y ocho años\")\n",
    "plt.xlabel(\"Edad en años\")\n",
    "plt.ylabel(\"Altura en metros\")\n",
    "\n",
    "# Para más información sobre plt.scatter, consultar:\n",
    "# http://matplotlib.org/api/pyplot_api.html#matplotlib.pyplot.scatter\n",
    "plt.scatter(array_x_redimen, array_y_redimen, s=50);"
   ]
  },
  {
   "cell_type": "markdown",
   "id": "4d2a6425",
   "metadata": {},
   "source": [
    "##### Vamos a realizar una regresión lineal para crear un modelo predictivo con el que intentemos predecir la altura de un niño, dada su edad.\n",
    "\n",
    "Método de Mínimos Cuadrados Ordinarios (OLS) : la función de reducción (loss function) es convexa, de forma que la optimización de la misma se puede realizar de forma determinística y, en este caso, utilizando álgebra lineal.\n",
    "\n",
    "Queremos obtener una función que nos permita explicar la y en función de la x, mediante la multiplicación de un parámetro 𝛽 que tenemos que estimar: 𝑦=𝛽⋅𝑋.\n",
    "\n",
    "Este 𝛽 lo obtenemos a travé de 𝛽=(𝑋^𝑇𝑋)^−1𝑋^𝑇𝑦.\n",
    "\n"
   ]
  },
  {
   "cell_type": "markdown",
   "id": "85893d79",
   "metadata": {},
   "source": [
    "##### Reasignamos a la variable x la columna de las xs de nuestro dataset y la variable y a la columna de las ys:"
   ]
  },
  {
   "cell_type": "code",
   "execution_count": 61,
   "id": "7d3f7c8a",
   "metadata": {},
   "outputs": [
    {
     "name": "stdout",
     "output_type": "stream",
     "text": [
      "X (primeras 10 observaciones):\n",
      "[[2.0658746]\n",
      " [2.3684087]\n",
      " [2.5399929]\n",
      " [2.5420804]\n",
      " [2.549079 ]\n",
      " [2.7866882]\n",
      " [2.9116825]\n",
      " [3.035627 ]\n",
      " [3.1146696]\n",
      " [3.1582389]]\n",
      "\n",
      "y (primeras 10 observaciones):\n",
      "[[0.77918926]\n",
      " [0.91596757]\n",
      " [0.90538354]\n",
      " [0.90566138]\n",
      " [0.9389889 ]\n",
      " [0.9668474 ]\n",
      " [0.96436824]\n",
      " [0.91445939]\n",
      " [0.93933944]\n",
      " [0.96074971]]\n"
     ]
    }
   ],
   "source": [
    "X = dataset[:,0].reshape(50,1)\n",
    "y = dataset[:,1].reshape(50,1)\n",
    "\n",
    "print(\"X (primeras 10 observaciones):\\n\" + str(X[:10])+\"\\n\")\n",
    "print(\"y (primeras 10 observaciones):\\n\" + str(y[:10]))"
   ]
  },
  {
   "cell_type": "code",
   "execution_count": 69,
   "id": "ddac8635",
   "metadata": {},
   "outputs": [
    {
     "name": "stdout",
     "output_type": "stream",
     "text": [
      "Beta:\n",
      "[[0.19984032]]\n"
     ]
    }
   ],
   "source": [
    "# Ejercicio05: Realizar el cómputo de\n",
    "# beta, a partir de la fórmula de la\n",
    "# closed form solution para OLS,\n",
    "# dados X e y:   𝛽=(𝑋^𝑇𝑋)^−1𝑋^𝑇𝑦\n",
    "\n",
    "beta = np.linalg.inv(X.T @ X) @ X.T @ y\n",
    "\n",
    "print(\"Beta:\\n\" + str(beta))"
   ]
  },
  {
   "cell_type": "code",
   "execution_count": 70,
   "id": "ba63a182",
   "metadata": {},
   "outputs": [
    {
     "name": "stdout",
     "output_type": "stream",
     "text": [
      "Correcto!\n"
     ]
    }
   ],
   "source": [
    "assert np.allclose(beta, np.array([[0.19984032]])), \"Error: valor inválido de beta\"\n",
    "print(\"Correcto!\")"
   ]
  },
  {
   "cell_type": "markdown",
   "id": "e142eae4",
   "metadata": {},
   "source": [
    "##### Ya podemos escribir nuestra Ho:"
   ]
  },
  {
   "cell_type": "code",
   "execution_count": 71,
   "id": "fb2016a8",
   "metadata": {},
   "outputs": [
    {
     "name": "stdout",
     "output_type": "stream",
     "text": [
      "Hipótesis:\n",
      "y = 0.19984031989419992 x\n"
     ]
    }
   ],
   "source": [
    "beta = beta[0,0]\n",
    "print(\"Hipótesis:\\n\" + \"y = \" + str(beta) + \" x\")"
   ]
  },
  {
   "cell_type": "markdown",
   "id": "7d87a890",
   "metadata": {},
   "source": [
    "##### Lo dibujamos:"
   ]
  },
  {
   "cell_type": "code",
   "execution_count": 116,
   "id": "45032c7e",
   "metadata": {},
   "outputs": [
    {
     "data": {
      "image/png": "[encoded data removed]",
      "text/plain": [
       "<Figure size 576x432 with 1 Axes>"
      ]
     },
     "metadata": {
      "needs_background": "light"
     },
     "output_type": "display_data"
    }
   ],
   "source": [
    "plt.figure(figsize=(8,6))\n",
    "plt.title(\"Altura para varios niños entre dos y ocho años\")\n",
    "plt.xlabel(\"Edad en años\")\n",
    "plt.ylabel(\"Altura en metros\")\n",
    "\n",
    "# Primero el scatterplot (igual que el anterior,\n",
    "# con los mismos datos en cada eje):\n",
    "plt.scatter(array_x_redimen, array_y_redimen, s=50)\n",
    "beta = np.linalg.inv(X.T @ X) @ X.T @ y\n",
    "\n",
    "# Y ahora la recta:\n",
    "plt.plot(array_x_redimen, \n",
    "         array_y_redimen,\n",
    "         \"g--\");"
   ]
  },
  {
   "cell_type": "markdown",
   "id": "95edba13",
   "metadata": {},
   "source": [
    "##### Añadimos el intercepto o sesgo , obteniendo una nueva fórmula de nuestra recta, ahora con ordenada en el origen  𝛽0 , lo cual nos va a ofrecer un mejor ajuste en nuestro modelo.\n",
    "\n",
    "Siempre que nuestros datos no estén centrados (es decir, que no tengan media 0), se recomienda añadir intercept, para un mejor ajuste.\n",
    "Tenemos que añadir una columna de unos a nuestro dataset, y realizar las mismas operaciones algebraicas para sacar nuestro, ahora, vector  𝛽 ."
   ]
  },
  {
   "cell_type": "code",
   "execution_count": 89,
   "id": "64560991",
   "metadata": {},
   "outputs": [
    {
     "data": {
      "text/plain": [
       "array([[2.0658746],\n",
       "       [2.3684087],\n",
       "       [2.5399929],\n",
       "       [2.5420804],\n",
       "       [2.549079 ],\n",
       "       [2.7866882],\n",
       "       [2.9116825],\n",
       "       [3.035627 ],\n",
       "       [3.1146696],\n",
       "       [3.1582389]])"
      ]
     },
     "execution_count": 89,
     "metadata": {},
     "output_type": "execute_result"
    }
   ],
   "source": [
    "# Ejecutar para ver las primeras 10 observaciones de nuestra feature matrix X:\n",
    "X[:10]"
   ]
  },
  {
   "cell_type": "code",
   "execution_count": 108,
   "id": "2cbe0331",
   "metadata": {},
   "outputs": [
    {
     "name": "stdout",
     "output_type": "stream",
     "text": [
      "[[1.        2.0658746]\n",
      " [1.        2.3684087]\n",
      " [1.        2.5399929]\n",
      " [1.        2.5420804]\n",
      " [1.        2.549079 ]\n",
      " [1.        2.7866882]\n",
      " [1.        2.9116825]\n",
      " [1.        3.035627 ]\n",
      " [1.        3.1146696]\n",
      " [1.        3.1582389]]\n"
     ]
    }
   ],
   "source": [
    "# Añadimos la columna de unos:\n",
    "columna_unos = np.ones ((50,1), dtype=float)\n",
    "\n",
    "X_con_intercept = np.append(columna_unos, X, axis =1)\n",
    "\n",
    "print(X_con_intercept [:10])"
   ]
  },
  {
   "cell_type": "code",
   "execution_count": 109,
   "id": "40437ad7",
   "metadata": {},
   "outputs": [
    {
     "name": "stdout",
     "output_type": "stream",
     "text": [
      "Correcto!\n"
     ]
    }
   ],
   "source": [
    "assert X_con_intercept.shape == (50,2), \"Error: las dimensiones de X_con_intercept están mal. Debería ser una matriz 50 x 2\"\n",
    "assert np.allclose(X_con_intercept.sum(axis=0), np.array([50. , 246.1785986])), \"Error: matriz X_con_intercept no válida. ¿Seguro que has añadido la columna de unos, y ésta es la primera de todas?\"\n",
    "print(\"Correcto!\")"
   ]
  },
  {
   "cell_type": "markdown",
   "id": "05cbfd2b",
   "metadata": {},
   "source": [
    "##### Volmemos a calcular : 𝛽=(𝑋^𝑇𝑋)^−1𝑋^𝑇𝑦"
   ]
  },
  {
   "cell_type": "code",
   "execution_count": 110,
   "id": "153b71fd",
   "metadata": {},
   "outputs": [
    {
     "name": "stdout",
     "output_type": "stream",
     "text": [
      "Vector beta:\n",
      "[[0.75016254]\n",
      " [0.06388117]]\n"
     ]
    }
   ],
   "source": [
    "# Ejercicio08: calcular el nuevo vector beta,\n",
    "# donde nuestra matriz X es la X_con_threshold\n",
    "# que acabamos de hacer:\n",
    "\n",
    "beta = np.linalg.inv(X_con_intercept.T @ X_con_intercept) @ X_con_intercept.T @ y\n",
    "\n",
    "print(\"Vector beta:\\n\" + str(beta))"
   ]
  },
  {
   "cell_type": "code",
   "execution_count": 111,
   "id": "bdd5351a",
   "metadata": {},
   "outputs": [
    {
     "name": "stdout",
     "output_type": "stream",
     "text": [
      "¡Correcto!\n"
     ]
    }
   ],
   "source": [
    "assert beta.shape == (2,1)\n",
    "assert np.allclose(beta, np.array([[0.75016254],[0.06388117]]))\n",
    "print(\"¡Correcto!\")"
   ]
  },
  {
   "cell_type": "markdown",
   "id": "05bb0ee7",
   "metadata": {},
   "source": [
    "Ya tenemos nuestra nueva estimación de parámetros del vector  𝛽 .\n",
    "\n",
    "\n",
    "##### Por motivos de simplicidad, vamos a separar los dos valores del vector en beta_0 (threshold/bias) y beta_1 (parámetro que multiplica a la edad).\n",
    "\n",
    "\n",
    "Si lo ponemos en nuestra ecuación de la recta:"
   ]
  },
  {
   "cell_type": "code",
   "execution_count": 112,
   "id": "eb3670d9",
   "metadata": {},
   "outputs": [
    {
     "name": "stdout",
     "output_type": "stream",
     "text": [
      "Nuestra función ahora es:\n",
      "y = 0.06388116582583406 x + 0.7501625370012388\n"
     ]
    }
   ],
   "source": [
    "beta_0 = beta[0,0]\n",
    "beta_1 = beta[1,0]\n",
    "print(\"Nuestra función ahora es:\")\n",
    "print(\"y = \" + str(beta_1) + \" x + \" + str(beta_0))"
   ]
  },
  {
   "cell_type": "markdown",
   "id": "48b1902a",
   "metadata": {},
   "source": [
    "Y este es nuestro nuevo modelo. Vamos a dibujar de nuevo el scatterplot, y la nueva recta:"
   ]
  },
  {
   "cell_type": "code",
   "execution_count": 121,
   "id": "da786d6f",
   "metadata": {
    "scrolled": true
   },
   "outputs": [
    {
     "data": {
      "image/png": "[encoded data removed]",
      "text/plain": [
       "<Figure size 576x432 with 1 Axes>"
      ]
     },
     "metadata": {
      "needs_background": "light"
     },
     "output_type": "display_data"
    }
   ],
   "source": [
    "plt.figure(figsize=(8,6))\n",
    "plt.title(\"Altura para varios niños entre dos y ocho años\")\n",
    "plt.xlabel(\"Edad en años\")\n",
    "plt.ylabel(\"Altura en metros\")\n",
    "\n",
    "# Como en los anteriores, primero el scatterplot:\n",
    "plt.scatter(array_y_redimen, array_y_redimen, s=50)\n",
    "beta = np.linalg.inv(X_con_intercept.T @ X_con_intercept) @ X_con_intercept.T @ y\n",
    "\n",
    "# Y ahora la nueva recta\n",
    "plt.plot(array_y_redimen, \n",
    "         array_y_redimen,\n",
    "         \"g--\");"
   ]
  }
 ],
 "metadata": {
  "kernelspec": {
   "display_name": "Python 3 (ipykernel)",
   "language": "python",
   "name": "python3"
  },
  "language_info": {
   "codemirror_mode": {
    "name": "ipython",
    "version": 3
   },
   "file_extension": ".py",
   "mimetype": "text/x-python",
   "name": "python",
   "nbconvert_exporter": "python",
   "pygments_lexer": "ipython3",
   "version": "3.9.7"
  }
 },
 "nbformat": 4,
 "nbformat_minor": 5
}
